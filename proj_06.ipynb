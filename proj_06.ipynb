{
  "nbformat": 4,
  "nbformat_minor": 0,
  "metadata": {
    "colab": {
      "provenance": [],
      "authorship_tag": "ABX9TyPXi9mIzMussiJ01xpFdcgX",
      "include_colab_link": true
    },
    "kernelspec": {
      "name": "python3",
      "display_name": "Python 3"
    },
    "language_info": {
      "name": "python"
    }
  },
  "cells": [
    {
      "cell_type": "markdown",
      "metadata": {
        "id": "view-in-github",
        "colab_type": "text"
      },
      "source": [
        "<a href=\"https://colab.research.google.com/github/ShaziaOngit/Assignments_1_to_6/blob/main/proj_06.ipynb\" target=\"_parent\"><img src=\"https://colab.research.google.com/assets/colab-badge.svg\" alt=\"Open In Colab\"/></a>"
      ]
    },
    {
      "cell_type": "code",
      "execution_count": null,
      "metadata": {
        "id": "liZCp9iws0zs",
        "outputId": "9352383a-634e-4643-a843-9e7f4ec8678b",
        "colab": {
          "base_uri": "https://localhost:8080/"
        }
      },
      "outputs": [
        {
          "output_type": "stream",
          "name": "stdout",
          "text": [
            "Welcome to the Countdown Timer!\n",
            "Enter the time in seconds: 5\n",
            "Time's up!\n"
          ]
        }
      ],
      "source": [
        "import time\n",
        "\n",
        "def countdown_timer(seconds):\n",
        "    # Loop to countdown every second\n",
        "    while seconds > 0:\n",
        "        mins, secs = divmod(seconds, 60)\n",
        "        timer = f'{mins:02d}:{secs:02d}'\n",
        "        print(timer, end=\"\\r\")  # Print the timer on the same line\n",
        "        time.sleep(1)  # Wait for one second\n",
        "        seconds -= 1\n",
        "\n",
        "    print(\"Time's up!\")  # Once the countdown reaches zero\n",
        "\n",
        "def main():\n",
        "    print(\"Welcome to the Countdown Timer!\")\n",
        "\n",
        "    # Get the countdown time from the user\n",
        "    try:\n",
        "        total_time = int(input(\"Enter the time in seconds: \"))\n",
        "\n",
        "        # Ensure that the time entered is a positive number\n",
        "        if total_time <= 0:\n",
        "            print(\"Please enter a positive number of seconds.\")\n",
        "        else:\n",
        "            countdown_timer(total_time)\n",
        "\n",
        "    except ValueError:\n",
        "        print(\"Please enter a valid number.\")\n",
        "\n",
        "if __name__ == \"__main__\":\n",
        "    main()"
      ]
    }
  ]
}