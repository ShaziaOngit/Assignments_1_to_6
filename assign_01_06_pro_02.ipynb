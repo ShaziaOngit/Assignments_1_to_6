{
  "nbformat": 4,
  "nbformat_minor": 0,
  "metadata": {
    "colab": {
      "provenance": [],
      "authorship_tag": "ABX9TyNJk2MkhSQhDG/+3YRS9U8W",
      "include_colab_link": true
    },
    "kernelspec": {
      "name": "python3",
      "display_name": "Python 3"
    },
    "language_info": {
      "name": "python"
    }
  },
  "cells": [
    {
      "cell_type": "markdown",
      "metadata": {
        "id": "view-in-github",
        "colab_type": "text"
      },
      "source": [
        "<a href=\"https://colab.research.google.com/github/ShaziaOngit/Assignments_1_to_6/blob/main/assign_01_06_pro_02.ipynb\" target=\"_parent\"><img src=\"https://colab.research.google.com/assets/colab-badge.svg\" alt=\"Open In Colab\"/></a>"
      ]
    },
    {
      "cell_type": "code",
      "source": [
        "# Importing the random module to generate random numbers\n",
        "import random\n",
        "\n",
        "# Welcoming the user\n",
        "print(\"🎯 Welcome to the 'Guess the Number' Game!\")\n",
        "print(\"I'm thinking of a number between 1 and 100.\")\n",
        "print(\"Can you guess what it is?\\n\")\n",
        "\n",
        "# Randomly generate a number between 1 and 100\n",
        "secret_number = random.randint(1, 100)\n",
        "\n",
        "# Variable to keep track of the number of attempts\n",
        "attempts = 0\n",
        "\n",
        "# Infinite loop that will keep asking the user until they guess correctly\n",
        "while True:\n",
        "    # Ask the user for their guess and convert it to an integer\n",
        "    guess = input(\"Enter your guess: \")\n",
        "\n",
        "    # Check if the input is a digit\n",
        "    if not guess.isdigit():\n",
        "        print(\"❌ Please enter a valid number!\")\n",
        "        continue  # Go back to asking for input\n",
        "\n",
        "    # Convert input to integer\n",
        "    guess = int(guess)\n",
        "    attempts += 1  # Increase attempt count\n",
        "\n",
        "    # Check the guess\n",
        "    if guess < secret_number:\n",
        "        print(\"🔻 Too low! Try a higher number.\\n\")\n",
        "    elif guess > secret_number:\n",
        "        print(\"🔺 Too high! Try a lower number.\\n\")\n",
        "    else:\n",
        "        # Correct guess\n",
        "        print(f\"✅ Congratulations! You guessed the number {secret_number} in {attempts} attempts.\")\n",
        "        break  # Exit the loop"
      ],
      "metadata": {
        "id": "sdyiGEuljhWg"
      },
      "execution_count": null,
      "outputs": []
    }
  ]
}