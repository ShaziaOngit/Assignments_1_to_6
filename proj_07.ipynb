{
  "nbformat": 4,
  "nbformat_minor": 0,
  "metadata": {
    "colab": {
      "provenance": [],
      "authorship_tag": "ABX9TyNo4VbXdgwqmiba09Dfco9I",
      "include_colab_link": true
    },
    "kernelspec": {
      "name": "python3",
      "display_name": "Python 3"
    },
    "language_info": {
      "name": "python"
    }
  },
  "cells": [
    {
      "cell_type": "markdown",
      "metadata": {
        "id": "view-in-github",
        "colab_type": "text"
      },
      "source": [
        "<a href=\"https://colab.research.google.com/github/ShaziaOngit/Assignments_1_to_6/blob/main/proj_07.ipynb\" target=\"_parent\"><img src=\"https://colab.research.google.com/assets/colab-badge.svg\" alt=\"Open In Colab\"/></a>"
      ]
    },
    {
      "cell_type": "code",
      "execution_count": null,
      "metadata": {
        "colab": {
          "base_uri": "https://localhost:8080/"
        },
        "id": "qJ6Jdue8uQXi",
        "outputId": "c506da6b-8670-4410-b44a-fe6e18246aa2"
      },
      "outputs": [
        {
          "output_type": "stream",
          "name": "stdout",
          "text": [
            "Welcome to the Password Generator!\n",
            "Enter the length of the password (e.g., 12): 12\n",
            "Your generated password is: ;?4,mt3ys/w:\n"
          ]
        }
      ],
      "source": [
        "import random\n",
        "import string\n",
        "\n",
        "def generate_password(length=12):\n",
        "    # Define the characters that the password can consist of\n",
        "    all_characters = string.ascii_letters + string.digits + string.punctuation\n",
        "\n",
        "    # Randomly select characters to form the password\n",
        "    password = ''.join(random.choice(all_characters) for i in range(length))\n",
        "\n",
        "    return password\n",
        "\n",
        "def main():\n",
        "    print(\"Welcome to the Password Generator!\")\n",
        "\n",
        "    # Get password length from the user\n",
        "    try:\n",
        "        length = int(input(\"Enter the length of the password (e.g., 12): \"))\n",
        "\n",
        "        # Ensure the length is valid (positive number)\n",
        "        if length < 8:\n",
        "            print(\"Password should be at least 8 characters long for security reasons.\")\n",
        "        else:\n",
        "            # Generate and display the password\n",
        "            generated_password = generate_password(length)\n",
        "            print(f\"Your generated password is: {generated_password}\")\n",
        "\n",
        "    except ValueError:\n",
        "        print(\"Please enter a valid number.\")\n",
        "\n",
        "if __name__ == \"__main__\":\n",
        "    main()"
      ]
    }
  ]
}