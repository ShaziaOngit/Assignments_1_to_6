{
  "nbformat": 4,
  "nbformat_minor": 0,
  "metadata": {
    "colab": {
      "provenance": [],
      "authorship_tag": "ABX9TyOsLbpsdFXISHZDPITt29cs",
      "include_colab_link": true
    },
    "kernelspec": {
      "name": "python3",
      "display_name": "Python 3"
    },
    "language_info": {
      "name": "python"
    }
  },
  "cells": [
    {
      "cell_type": "markdown",
      "metadata": {
        "id": "view-in-github",
        "colab_type": "text"
      },
      "source": [
        "<a href=\"https://colab.research.google.com/github/ShaziaOngit/Assignments_1_to_6/blob/main/proj_05.ipynb\" target=\"_parent\"><img src=\"https://colab.research.google.com/assets/colab-badge.svg\" alt=\"Open In Colab\"/></a>"
      ]
    },
    {
      "cell_type": "code",
      "source": [
        "import random\n",
        "\n",
        "# List of words to choose from\n",
        "word_list = ['python', 'java', 'javascript', 'hangman', 'computer', 'programming', 'developer']\n",
        "\n",
        "# Function to choose a random word from the list\n",
        "def get_random_word():\n",
        "    return random.choice(word_list)\n",
        "\n",
        "# Function to display the current status of the word with guessed letters and underscores for unguessed letters\n",
        "def display_word(word, guessed_letters):\n",
        "    display = ''\n",
        "    for letter in word:\n",
        "        if letter in guessed_letters:\n",
        "            display += letter + ' '\n",
        "        else:\n",
        "            display += '_ '\n",
        "    return display.strip()\n",
        "\n",
        "# Function to play the hangman game\n",
        "def play_game():\n",
        "    print(\"Welcome to Hangman Game!\")\n",
        "\n",
        "    # Choose a random word from the word list\n",
        "    word = get_random_word()\n",
        "    guessed_letters = []  # List to store guessed letters\n",
        "    incorrect_guesses = 0  # Counter for incorrect guesses\n",
        "    max_incorrect_guesses = 6  # Max incorrect guesses allowed\n",
        "\n",
        "    # Game loop\n",
        "    while incorrect_guesses < max_incorrect_guesses:\n",
        "        print(\"\\nWord to guess: \" + display_word(word, guessed_letters))\n",
        "        print(f\"Incorrect guesses left: {max_incorrect_guesses - incorrect_guesses}\")\n",
        "\n",
        "        # Ask the user for a letter guess\n",
        "        guess = input(\"Guess a letter: \").lower()\n",
        "\n",
        "        # Validate the guess input\n",
        "        if len(guess) != 1 or not guess.isalpha():\n",
        "            print(\"Please enter a single valid letter.\")\n",
        "            continue\n",
        "\n",
        "        # Check if the letter has already been guessed\n",
        "        if guess in guessed_letters:\n",
        "            print(\"You already guessed that letter. Try again.\")\n",
        "            continue\n",
        "\n",
        "        # Add the guess to the list of guessed letters\n",
        "        guessed_letters.append(guess)\n",
        "\n",
        "        # Check if the guessed letter is in the word\n",
        "        if guess in word:\n",
        "            print(f\"Good guess! The letter '{guess}' is in the word.\")\n",
        "        else:\n",
        "            incorrect_guesses += 1\n",
        "            print(f\"Oops! The letter '{guess}' is not in the word.\")\n",
        "\n",
        "        # Check if the user has guessed all letters in the word\n",
        "        if all(letter in guessed_letters for letter in word):\n",
        "            print(\"\\nCongratulations! You've guessed the word: \" + word)\n",
        "            break\n",
        "\n",
        "    # If the player has used up all incorrect guesses, they lose\n",
        "    if incorrect_guesses == max_incorrect_guesses:\n",
        "        print(f\"\\nGame Over! The word was: {word}\")\n",
        "\n",
        "# Running the game\n",
        "if __name__ == \"__main__\":\n",
        "    play_game()"
      ],
      "metadata": {
        "colab": {
          "base_uri": "https://localhost:8080/"
        },
        "id": "LMxybsXtsC7N",
        "outputId": "bb7d42a5-8362-4b34-d6e4-478fc9482ccf"
      },
      "execution_count": null,
      "outputs": [
        {
          "output_type": "stream",
          "name": "stdout",
          "text": [
            "Welcome to Hangman Game!\n",
            "\n",
            "Word to guess: _ _ _ _ _ _ _ _ _ _ _\n",
            "Incorrect guesses left: 6\n",
            "Guess a letter: congrats\n",
            "Please enter a single valid letter.\n",
            "\n",
            "Word to guess: _ _ _ _ _ _ _ _ _ _ _\n",
            "Incorrect guesses left: 6\n",
            "Guess a letter: superb\n",
            "Please enter a single valid letter.\n",
            "\n",
            "Word to guess: _ _ _ _ _ _ _ _ _ _ _\n",
            "Incorrect guesses left: 6\n",
            "Guess a letter: 12345\n",
            "Please enter a single valid letter.\n",
            "\n",
            "Word to guess: _ _ _ _ _ _ _ _ _ _ _\n",
            "Incorrect guesses left: 6\n",
            "Guess a letter: 3\n",
            "Please enter a single valid letter.\n",
            "\n",
            "Word to guess: _ _ _ _ _ _ _ _ _ _ _\n",
            "Incorrect guesses left: 6\n",
            "Guess a letter: \n",
            "Please enter a single valid letter.\n",
            "\n",
            "Word to guess: _ _ _ _ _ _ _ _ _ _ _\n",
            "Incorrect guesses left: 6\n"
          ]
        }
      ]
    },
    {
      "cell_type": "code",
      "source": [],
      "metadata": {
        "id": "RFTRQRrDsGiy"
      },
      "execution_count": null,
      "outputs": []
    }
  ]
}